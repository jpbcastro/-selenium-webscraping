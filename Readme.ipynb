{
 "cells": [
  {
   "cell_type": "markdown",
   "metadata": {},
   "source": [
    "# Web Scraping e armazenamento em um banco MySQL"
   ]
  },
  {
   "cell_type": "markdown",
   "metadata": {},
   "source": [
    "Este projeto coleta informações do site \"valorinveste.globo.com\" através de web scraping e armazena em um banco de dados MySQL. Após o armazenamento dos dados contidos no banco é possível retornar os dados para um DataFrame pandas.\n",
    "\n",
    "O algoritmo \"set_project.py\" é responsável por criar a base de dados e tabelas no MySQL. O algoritmo \"get_data.py\" coleta o nome, o código e valor de fechamento da ação do dia anterior e armazena nas tabelas criadas. Como o alvo é o valor de fechamento, para evitar valores repetidos, o algoritmo somente acrescenta dados uma vez por dia. O algoritmo \"return_data.py\" retorna os valores armazenados até o momento no banco de dados para um pandas DataFrame. "
   ]
  }
 ],
 "metadata": {
  "kernelspec": {
   "display_name": "Python 3",
   "language": "python",
   "name": "python3"
  },
  "language_info": {
   "name": "python",
   "version": "3.10.12"
  }
 },
 "nbformat": 4,
 "nbformat_minor": 2
}
